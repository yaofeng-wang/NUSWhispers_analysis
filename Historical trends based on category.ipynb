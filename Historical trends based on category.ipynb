{
 "cells": [
  {
   "cell_type": "markdown",
   "metadata": {},
   "source": [
    "In this jupyter notebook, I will be briefly looking through some historical trends based on the number of numbers and \n",
    "the number of comments of posts from NUSWhispers's website (https://www.nuswhispers.com). If you are not interested in the code, this will be at most be a  **3 minute read**.\n",
    "\n",
    "The data was scraped using a Python command line application that I build, the Github repository of the code for the application can be found at https://github.com/yaofeng-wang/NUSWhispers_scraper. The data can be found at https://github.com/yaofeng-wang/NUSWhispers_scraper/tree/master/output. If you have any suggestion/criticism, please contact me at yaofeng96@gmail.com . \n",
    "\n",
    "In the following cells, I will refer to each post in NUSWhispers as a 'Whisper'. If you are not interested in the code,\n",
    "feel free to skip the 'Data pre-processing' section that will follow immediately and proceed to the 'Overview of data' \n",
    "section."
   ]
  },
  {
   "cell_type": "markdown",
   "metadata": {},
   "source": [
    "### Data pre-processing"
   ]
  },
  {
   "cell_type": "code",
   "execution_count": 71,
   "metadata": {},
   "outputs": [],
   "source": [
    "import pandas as pd\n",
    "import numpy as np\n",
    "import matplotlib.pyplot as plt\n",
    "import calendar\n",
    "from datetime import date, datetime\n",
    "from dateutil.relativedelta import relativedelta\n",
    "\n",
    "# Label each bar plot with the value on top of each bar\n",
    "# https://matplotlib.org/3.1.1/gallery/lines_bars_and_markers/barchart.html#sphx-glr-gallery-lines-bars-and-markers-barchart-py\n",
    "def autolabel(rects, dtype):\n",
    "    for rect in rects:\n",
    "        height = rect.get_height()\n",
    "        if dtype == 'int':\n",
    "            ax.annotate(f'{height}', xy=(rect.get_x() + rect.get_width() / 2, height),\n",
    "                        xytext=(0, 3), \n",
    "                        textcoords=\"offset points\",\n",
    "                        ha='center', va='bottom')\n",
    "        else:\n",
    "            ax.annotate(f'{height:.2f}', xy=(rect.get_x() + rect.get_width() / 2, height),\n",
    "                        xytext=(0, 3), \n",
    "                        textcoords=\"offset points\",\n",
    "                        ha='center', va='bottom')\n",
    "            \n",
    "df53000to53999 = pd.read_excel(\"./posts53000to53999.xlsx\",\n",
    "    names=['index','categories','text','num_likes','num_comments','post_age','num_favourites'])\n",
    "df54000to54999 = pd.read_excel(\"./posts54000to54999.xlsx\",\n",
    "    names=['index','categories','text','num_likes','num_comments','post_age','num_favourites'])\n",
    "df55000to55999 = pd.read_excel(\"./posts55000to55999.xlsx\",\n",
    "    names=['index','categories','text','num_likes','num_comments','post_age','num_favourites'])\n",
    "df56000to56999 = pd.read_excel(\"./posts56000to56999.xlsx\",\n",
    "    names=['index','categories','text','num_likes','num_comments','post_age','num_favourites'])\n",
    "df57000to57999 = pd.read_excel(\"./posts57000to57999.xlsx\",\n",
    "    names=['index','categories','text','num_likes','num_comments','post_age','num_favourites'])\n",
    "df58000to58999 = pd.read_excel(\"./posts58000to58999.xlsx\",\n",
    "    names=['index','categories','text','num_likes','num_comments','post_age','num_favourites'])\n",
    "df59000to59999 = pd.read_excel(\"./posts59000to59999.xlsx\",\n",
    "    names=['index','categories','text','num_likes','num_comments','post_age','num_favourites'])\n",
    "df60000to60999 = pd.read_excel(\"./posts60000to60999.xlsx\",\n",
    "    names=['index','categories','text','num_likes','num_comments','post_age','num_favourites'])\n",
    "df61000to61999 = pd.read_excel(\"./posts61000to61999.xlsx\",\n",
    "    names=['index','categories','text','num_likes','num_comments','post_age','num_favourites'])\n",
    "df62000to62999 = pd.read_excel(\"./posts62000to62999.xlsx\",\n",
    "    names=['index','categories','text','num_likes','num_comments','post_age','num_favourites'])\n",
    "df63000to63999 = pd.read_excel(\"./posts63000to63999.xlsx\",\n",
    "    names=['index','categories','text','num_likes','num_comments','post_age','num_favourites'])\n",
    "df64000to64999 = pd.read_excel(\"./posts64000to64999.xlsx\",\n",
    "    names=['index','categories','text','num_likes','num_comments','post_age','num_favourites'])\n",
    "df65000to65999 = pd.read_excel(\"./posts65000to65999.xlsx\",\n",
    "    names=['index','categories','text','num_likes','num_comments','post_age','num_favourites'])\n",
    "df66000to66999 = pd.read_excel(\"./posts66000to66999.xlsx\",\n",
    "    names=['index','categories','text','num_likes','num_comments','post_age','num_favourites'])\n",
    "df67000to67999 = pd.read_excel(\"./posts67000to67999.xlsx\",\n",
    "    names=['index','categories','text','num_likes','num_comments','post_age','num_favourites'])\n",
    "\n",
    "df = pd.concat([df53000to53999, df54000to54999, df55000to55999, df56000to56999, df57000to57999, df58000to58999, \n",
    "                df59000to59999, df60000to60999, df61000to61999, df62000to62999, df63000to63999, df64000to64999, \n",
    "                df65000to65999, df66000to66999, df67000to67999], axis=0)"
   ]
  },
  {
   "cell_type": "code",
   "execution_count": 72,
   "metadata": {},
   "outputs": [],
   "source": [
    "# Convert post_age to month-year string\n",
    "# e.g. '2 months ago' becomes 'Jun-19'\n",
    "#      '9 months ago' becomes 'Nov-18'\n",
    "#      'a month ago' becomes  'Jul-19'\n",
    "#      '2 hours ago' becomes  'Aug-19'\n",
    "def get_post_age(x):\n",
    "    first_word, second_word = x.split(\" \")[0], x.split(\" \")[1]\n",
    "    current_date = date(year=2019,month=8,day=1)\n",
    "    post_posted_on = None\n",
    "    if second_word == 'months':\n",
    "        post_posted_on = current_date -  relativedelta(months=int(first_word))\n",
    "    elif second_word == 'month':\n",
    "        post_posted_on = current_date -  relativedelta(months=1)\n",
    "    else:\n",
    "        post_posted_on = current_date\n",
    "    return post_posted_on.strftime(\"%b-%y\")\n",
    "        \n",
    "# https://stackoverflow.com/questions/48042915/sort-a-pandass-dataframe-series-by-month-name/48043319\n",
    "months = [\"Oct-18\", \"Nov-18\", \"Dec-18\", \"Jan-19\", \"Feb-19\", \"Mar-19\", \"Apr-19\", \"May-19\", \"Jun-19\", \"Jul-19\", \"Aug-19\"]\n",
    "df['month'] = pd.Categorical(df['post_age'].apply(get_post_age), categories=months, ordered=True)\n",
    "\n",
    "# Process category.\n",
    "df['categories'] = df['categories'].replace(np.nan, 'no category')\n",
    "for cat in ['Lost and Found', 'Romance', 'Advice', 'Rant', 'Nostalgia', 'Funny']:\n",
    "    df['category_' + cat] = df['categories'].apply(lambda x: 1 if cat in x else 0)\n",
    "    \n",
    "# There were some Whispers without num_likes 57766, 57778, 57784, 57787, 57792, 57877, 57879\n",
    "# Unable to find posts on Facebook\n",
    "df['num_likes'] = df['num_likes'].apply(lambda x: 0 if x == 'None' else int(x))"
   ]
  },
  {
   "cell_type": "markdown",
   "metadata": {},
   "source": [
    "### Overview of data"
   ]
  },
  {
   "cell_type": "markdown",
   "metadata": {},
   "source": [
    "There are 6 categories created by and assigned by the NUSWhispers team:\n",
    "1. Lost and Found\n",
    "2. Romance\n",
    "3. Advice\n",
    "4. Rant\n",
    "5. Nostalgia\n",
    "6. Funny\n",
    "\n",
    "\n",
    "Each Whisper can have more than 1 category and there are Whispers that do not have a category.\n",
    "\n",
    "Let us start by taking a look at the summary for each category.\n",
    "\n"
   ]
  },
  {
   "cell_type": "code",
   "execution_count": 45,
   "metadata": {
    "scrolled": true
   },
   "outputs": [
    {
     "data": {
      "text/html": [
       "<div>\n",
       "<style scoped>\n",
       "    .dataframe tbody tr th:only-of-type {\n",
       "        vertical-align: middle;\n",
       "    }\n",
       "\n",
       "    .dataframe tbody tr th {\n",
       "        vertical-align: top;\n",
       "    }\n",
       "\n",
       "    .dataframe thead th {\n",
       "        text-align: right;\n",
       "    }\n",
       "</style>\n",
       "<table border=\"1\" class=\"dataframe\">\n",
       "  <thead>\n",
       "    <tr style=\"text-align: right;\">\n",
       "      <th></th>\n",
       "      <th>category_Lost and Found</th>\n",
       "      <th>category_Romance</th>\n",
       "      <th>category_Advice</th>\n",
       "      <th>category_Rant</th>\n",
       "      <th>category_Nostalgia</th>\n",
       "      <th>category_Funny</th>\n",
       "    </tr>\n",
       "  </thead>\n",
       "  <tbody>\n",
       "    <tr>\n",
       "      <th>count</th>\n",
       "      <td>5198.000000</td>\n",
       "      <td>5198.000000</td>\n",
       "      <td>5198.000000</td>\n",
       "      <td>5198.000000</td>\n",
       "      <td>5198.000000</td>\n",
       "      <td>5198.000000</td>\n",
       "    </tr>\n",
       "    <tr>\n",
       "      <th>mean</th>\n",
       "      <td>0.024625</td>\n",
       "      <td>0.120046</td>\n",
       "      <td>0.460754</td>\n",
       "      <td>0.229704</td>\n",
       "      <td>0.020200</td>\n",
       "      <td>0.044440</td>\n",
       "    </tr>\n",
       "    <tr>\n",
       "      <th>std</th>\n",
       "      <td>0.154994</td>\n",
       "      <td>0.325047</td>\n",
       "      <td>0.498505</td>\n",
       "      <td>0.420683</td>\n",
       "      <td>0.140698</td>\n",
       "      <td>0.206091</td>\n",
       "    </tr>\n",
       "    <tr>\n",
       "      <th>min</th>\n",
       "      <td>0.000000</td>\n",
       "      <td>0.000000</td>\n",
       "      <td>0.000000</td>\n",
       "      <td>0.000000</td>\n",
       "      <td>0.000000</td>\n",
       "      <td>0.000000</td>\n",
       "    </tr>\n",
       "    <tr>\n",
       "      <th>25%</th>\n",
       "      <td>0.000000</td>\n",
       "      <td>0.000000</td>\n",
       "      <td>0.000000</td>\n",
       "      <td>0.000000</td>\n",
       "      <td>0.000000</td>\n",
       "      <td>0.000000</td>\n",
       "    </tr>\n",
       "    <tr>\n",
       "      <th>50%</th>\n",
       "      <td>0.000000</td>\n",
       "      <td>0.000000</td>\n",
       "      <td>0.000000</td>\n",
       "      <td>0.000000</td>\n",
       "      <td>0.000000</td>\n",
       "      <td>0.000000</td>\n",
       "    </tr>\n",
       "    <tr>\n",
       "      <th>75%</th>\n",
       "      <td>0.000000</td>\n",
       "      <td>0.000000</td>\n",
       "      <td>1.000000</td>\n",
       "      <td>0.000000</td>\n",
       "      <td>0.000000</td>\n",
       "      <td>0.000000</td>\n",
       "    </tr>\n",
       "    <tr>\n",
       "      <th>max</th>\n",
       "      <td>1.000000</td>\n",
       "      <td>1.000000</td>\n",
       "      <td>1.000000</td>\n",
       "      <td>1.000000</td>\n",
       "      <td>1.000000</td>\n",
       "      <td>1.000000</td>\n",
       "    </tr>\n",
       "  </tbody>\n",
       "</table>\n",
       "</div>"
      ],
      "text/plain": [
       "       category_Lost and Found  category_Romance  category_Advice  \\\n",
       "count              5198.000000       5198.000000      5198.000000   \n",
       "mean                  0.024625          0.120046         0.460754   \n",
       "std                   0.154994          0.325047         0.498505   \n",
       "min                   0.000000          0.000000         0.000000   \n",
       "25%                   0.000000          0.000000         0.000000   \n",
       "50%                   0.000000          0.000000         0.000000   \n",
       "75%                   0.000000          0.000000         1.000000   \n",
       "max                   1.000000          1.000000         1.000000   \n",
       "\n",
       "       category_Rant  category_Nostalgia  category_Funny  \n",
       "count    5198.000000         5198.000000     5198.000000  \n",
       "mean        0.229704            0.020200        0.044440  \n",
       "std         0.420683            0.140698        0.206091  \n",
       "min         0.000000            0.000000        0.000000  \n",
       "25%         0.000000            0.000000        0.000000  \n",
       "50%         0.000000            0.000000        0.000000  \n",
       "75%         0.000000            0.000000        0.000000  \n",
       "max         1.000000            1.000000        1.000000  "
      ]
     },
     "execution_count": 45,
     "metadata": {},
     "output_type": "execute_result"
    }
   ],
   "source": [
    "df.describe()[['category_Lost and Found', 'category_Romance', 'category_Advice', 'category_Rant', 'category_Nostalgia', 'category_Funny' ]]"
   ]
  },
  {
   "cell_type": "markdown",
   "metadata": {},
   "source": [
    "Looking at the mean value for each category, 'Advice' is the most popular category."
   ]
  },
  {
   "cell_type": "markdown",
   "metadata": {},
   "source": [
    "Next, let's look at the number of Whispers separated by category and month.\n",
    "\n",
    "Since each post can have more than zero or more than 1 category, I have extracted the individual categories for each Whispers in a way such that 1 post could contribute to an increase in count in more than 1 category.\n",
    "In other words, the total number of Whispers for each month shown below is not equals to the total number of \n",
    "Whispers for that month."
   ]
  },
  {
   "cell_type": "code",
   "execution_count": 46,
   "metadata": {
    "scrolled": false
   },
   "outputs": [
    {
     "data": {
      "text/plain": [
       "<matplotlib.legend.Legend at 0x1e7dea20f98>"
      ]
     },
     "execution_count": 46,
     "metadata": {},
     "output_type": "execute_result"
    },
    {
     "data": {
      "image/png": "[encoded data removed]",
      "text/plain": [
       "<Figure size 720x432 with 1 Axes>"
      ]
     },
     "metadata": {
      "needs_background": "light"
     },
     "output_type": "display_data"
    }
   ],
   "source": [
    "df2 = df.groupby(['month', 'category_Advice'], as_index=False).size().reset_index()\n",
    "df3 = df.groupby(['month', 'category_Lost and Found'], as_index=False).size().reset_index()\n",
    "df4 = pd.DataFrame([['Jun', 1, 0]], columns = ['month','category_Lost and Found',0]) \n",
    "df3 = df3.append(df4)\n",
    "df5 = df.groupby(['month', 'category_Romance'], as_index=False).size().reset_index()\n",
    "df6 = df.groupby(['month', 'category_Rant'], as_index=False).size().reset_index()\n",
    "df7 = df.groupby(['month', 'category_Nostalgia'], as_index=False).size().reset_index()\n",
    "df8 = df.groupby(['month', 'category_Funny'], as_index=False).size().reset_index()\n",
    "\n",
    "width = 0.35\n",
    "\n",
    "landf = df3.loc[df3['category_Lost and Found'] == 1, 0].values\n",
    "a = df2.loc[df2['category_Advice'] == 1, 0].values\n",
    "ro = df5.loc[df5['category_Romance'] == 1, 0].values\n",
    "ra = df6.loc[df6['category_Rant'] == 1, 0].values\n",
    "n = df7.loc[df7['category_Nostalgia'] == 1, 0].values\n",
    "f = df8.loc[df8['category_Funny'] == 1, 0].values\n",
    "\n",
    "plt.figure(figsize=(10, 6))\n",
    "p1 = plt.bar(months, a, width, color='green')\n",
    "p2 = plt.bar(months, landf, width, bottom = a, color='orange')\n",
    "p3 = plt.bar(months, ro, width, bottom = a + landf)\n",
    "p4 = plt.bar(months, ra, width, bottom = a + landf + ro)\n",
    "p5 = plt.bar(months, n, width, bottom = a + landf + ro + ra)\n",
    "p6 = plt.bar(months, f, width, bottom = a + landf + ro + ra +n)\n",
    "\n",
    "plt.ylabel('Number of Whispers')\n",
    "plt.xlabel('Month')\n",
    "plt.title('Number of Whispers, separated by category and Month')\n",
    "plt.legend((p1[0], p2[0], p3[0], p4[0], p5[0], p6[0]), ('Advice','Lost and Found', 'Romance', 'Rant', 'Nostalgia', 'Funny'))"
   ]
  },
  {
   "cell_type": "markdown",
   "metadata": {},
   "source": [
    "From the plot above, it seems that 'Advice' is the most popular category and perhaps followed by 'Rant'. This observation is consistent with the summary that we have seen earlier.\n",
    "\n",
    "There doesn't seem to be a clear trend in the number of post for each of the categories."
   ]
  },
  {
   "cell_type": "markdown",
   "metadata": {},
   "source": [
    "Let's look at the average number of likes, separated by category and month"
   ]
  },
  {
   "cell_type": "code",
   "execution_count": 82,
   "metadata": {},
   "outputs": [
    {
     "data": {
      "text/plain": [
       "<matplotlib.legend.Legend at 0x1e7e2bef5f8>"
      ]
     },
     "execution_count": 82,
     "metadata": {},
     "output_type": "execute_result"
    },
    {
     "data": {
      "image/png": "[encoded data removed]",
      "text/plain": [
       "<Figure size 1440x576 with 1 Axes>"
      ]
     },
     "metadata": {
      "needs_background": "light"
     },
     "output_type": "display_data"
    }
   ],
   "source": [
    "df2 = df.groupby(['month', 'category_Advice'], as_index=False).agg({'num_likes':'mean'})\n",
    "df3 = df.groupby(['month', 'category_Lost and Found'], as_index=False).mean()[['month', 'num_likes','category_Lost and Found']]\n",
    "df3['num_likes'].fillna(0, inplace=True)\n",
    "df5 = df.groupby(['month', 'category_Romance'], as_index=False).agg({'num_likes':'mean'})\n",
    "df6 = df.groupby(['month', 'category_Rant'], as_index=False).agg({'num_likes':'mean'})\n",
    "df7 = df.groupby(['month', 'category_Nostalgia'], as_index=False).mean()[['month', 'num_likes','category_Nostalgia']]\n",
    "df7['num_likes'].fillna(0, inplace=True)\n",
    "df8 = df.groupby(['month', 'category_Funny'], as_index=False).agg({'num_likes':'mean'})\n",
    "df9 = df.groupby(['month'], as_index=False).agg({'num_likes':'mean'})\n",
    "width = 0.1\n",
    "\n",
    "landf = df3.loc[df3['category_Lost and Found'] == 1, 'num_likes'].values\n",
    "a = df2.loc[df2['category_Advice'] == 1, 'num_likes'].values\n",
    "ro = df5.loc[df5['category_Romance'] == 1, 'num_likes'].values\n",
    "ra = df6.loc[df6['category_Rant'] == 1, 'num_likes'].values\n",
    "n = df7.loc[df7['category_Nostalgia'] == 1, 'num_likes'].values\n",
    "f = df8.loc[df8['category_Funny'] == 1, 'num_likes'].values\n",
    "ave = df9['num_likes'].values\n",
    "\n",
    "plt.figure(figsize=(20, 8))\n",
    "axis = plt.gca()\n",
    "x = np.arange(len(months))\n",
    "p1 = plt.bar(x-3*width, a, width)\n",
    "p2 = plt.bar(x-2*width, landf, width)\n",
    "p3 = plt.bar(x-width, ro, width)\n",
    "p4 = plt.bar(x, ra, width)\n",
    "p5 = plt.bar(x+width, n, width)\n",
    "p6 = plt.bar(x+2*width, f, width)\n",
    "p7 = plt.bar(x+3*width, ave, width)\n",
    "\n",
    "plt.ylabel('Average number of likes')\n",
    "plt.xlabel('Month')\n",
    "plt.xticks(x)\n",
    "axis.set_xticklabels(months)\n",
    "plt.legend((p1[0], p2[0], p3[0], p4[0], p5[0], p6[0], p7[0]), ('Advice','Lost and Found', 'Romance', 'Rant', 'Nostalgia', 'Funny','All'))"
   ]
  },
  {
   "cell_type": "markdown",
   "metadata": {
    "scrolled": true
   },
   "source": [
    "Clearly, there are some outliers. \n",
    "\n",
    "A notable outlier for the month of Jun-19, with category that consists of 'Funny': https://www.nuswhispers.com/tag/64156\n",
    "\n",
    "A notable outlier for the month of Aug-19, with category that consists of 'Nostalgia': https://www.nuswhispers.com/tag/66150\n",
    "\n",
    "Another notable outlier for the month of Aug-19, with category that consists of 'Nostalgia': https://www.nuswhispers.com/tag/67095"
   ]
  },
  {
   "cell_type": "markdown",
   "metadata": {},
   "source": [
    "Thank you for looking through this jupyter notebook! Once again If you have any suggestion/criticism, please contact me at yaofeng96@gmail.com. Have a good day :) (Last update: 12-Aug-2019)"
   ]
  }
 ],
 "metadata": {
  "kernelspec": {
   "display_name": "Python 3",
   "language": "python",
   "name": "python3"
  },
  "language_info": {
   "codemirror_mode": {
    "name": "ipython",
    "version": 3
   },
   "file_extension": ".py",
   "mimetype": "text/x-python",
   "name": "python",
   "nbconvert_exporter": "python",
   "pygments_lexer": "ipython3",
   "version": "3.6.5"
  }
 },
 "nbformat": 4,
 "nbformat_minor": 2
}
